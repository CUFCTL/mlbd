{
 "cells": [
  {
   "cell_type": "markdown",
   "metadata": {},
   "source": [
    "# Introduction to Jupyter Notebooks\n",
    "\n",
    "Welcome to your first Jupyter notebook! We will be using notebooks like these throughout the course to teach you concepts in data science and machine learning. Jupyter notebooks are like interactive coding worksheets; you can create __text blocks__ (like this one) and __code blocks__ (like the one below). Text blocks use [Markdown](https://daringfireball.net/projects/markdown/), a simple language for creating rich text, which also supports inline HTML. Code blocks contain code which can be run, and the output of a code block is saved even after you close the notebook. The programming language used in the code block depends on the __kernel__ that you select; for this course you should always use the custom Python kernel that you created from your Anaconda environment.\n",
    "\n",
    "Check out the \"Help\" menu to learn more about how to use Jupyter notebooks. For now, make sure your Anaconda environment is working by running this Python code:"
   ]
  },
  {
   "cell_type": "code",
   "execution_count": null,
   "metadata": {},
   "outputs": [],
   "source": [
    "import ipywidgets\n",
    "import matplotlib.pyplot as plt\n",
    "import numpy as np\n",
    "import pandas as pd\n",
    "import seaborn as sns\n",
    "import sklearn\n",
    "import tensorflow as tf"
   ]
  },
  {
   "cell_type": "code",
   "execution_count": null,
   "metadata": {},
   "outputs": [],
   "source": [
    "print(f'TensorFlow version:{tf.__version__}')"
   ]
  },
  {
   "cell_type": "markdown",
   "metadata": {
    "slideshow": {
     "slide_type": "subslide"
    }
   },
   "source": [
    "If your Anaconda environment is set up correctly and all of these packages are installed, you should see nothing as the output. Additionally, if you installed `tensorflow-gpu` then you must run this notebook on a machine with an NVIDIA GPU for the `tensorflow` module to import correctly."
   ]
  },
  {
   "cell_type": "markdown",
   "metadata": {},
   "source": [
    "Run the following cell to check if Tensorflow has detected your GPU. Tensorflow will still work without a GPU but it is good practice to use one. If the Number of GPUs Avaiable is greater than 0 your Jupyter Notebook has been setup correctly."
   ]
  },
  {
   "cell_type": "code",
   "execution_count": null,
   "metadata": {},
   "outputs": [],
   "source": [
    "print(\"Num GPUs Available: \", len(tf.config.list_physical_devices('GPU')))"
   ]
  },
  {
   "cell_type": "markdown",
   "metadata": {},
   "source": [
    "One really useful feature to know with Python is the `help()` function. You can call `help()` on just about anything, including modules and functions. Here are some examples:"
   ]
  },
  {
   "cell_type": "code",
   "execution_count": null,
   "metadata": {},
   "outputs": [],
   "source": [
    "help(sklearn)"
   ]
  },
  {
   "cell_type": "code",
   "execution_count": null,
   "metadata": {},
   "outputs": [],
   "source": [
    "help(np.random.randn)"
   ]
  },
  {
   "cell_type": "markdown",
   "metadata": {
    "slideshow": {
     "slide_type": "subslide"
    }
   },
   "source": [
    "You can also run shell commands from the notebook with the `!` prefix:"
   ]
  },
  {
   "cell_type": "code",
   "execution_count": null,
   "metadata": {},
   "outputs": [],
   "source": [
    "!pwd"
   ]
  },
  {
   "cell_type": "markdown",
   "metadata": {},
   "source": [
    "That way you don't have to switch to a terminal window to check on things from the command-line."
   ]
  }
 ],
 "metadata": {
  "kernelspec": {
   "display_name": "tf_29",
   "language": "python",
   "name": "test-mlbd-tf29"
  },
  "language_info": {
   "codemirror_mode": {
    "name": "ipython",
    "version": 3
   },
   "file_extension": ".py",
   "mimetype": "text/x-python",
   "name": "python",
   "nbconvert_exporter": "python",
   "pygments_lexer": "ipython3",
   "version": "3.7.16"
  }
 },
 "nbformat": 4,
 "nbformat_minor": 4
}
